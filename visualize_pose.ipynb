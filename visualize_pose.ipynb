{
 "cells": [
  {
   "cell_type": "code",
   "execution_count": null,
   "id": "0a8bb60c-8b01-48f7-a8de-e25dcef1364f",
   "metadata": {},
   "outputs": [],
   "source": [
    "# 点群可視化アニメーション\n",
    "import pandas as pd\n",
    "import matplotlib.pyplot as plt\n",
    "import matplotlib.animation as animation\n",
    "\n",
    "from ipyfilechooser import FileChooser\n",
    "from ipywidgets import Button, VBox, HBox, Output\n",
    "from IPython.display import display, HTML\n",
    "\n",
    "# ファイル選択ウィジェット\n",
    "chooser_csv = FileChooser('csv/')\n",
    "button = Button(description='Load and Animate')\n",
    "output = Output()\n",
    "\n",
    "def on_button_click(button):\n",
    "    with output:\n",
    "        output.clear_output()\n",
    "        csv_file_path = chooser_csv.selected\n",
    "        if not csv_file_path:\n",
    "            print(\"ファイルを選択してください。\")\n",
    "            return\n",
    "\n",
    "        data_csv = pd.read_csv(csv_file_path)\n",
    "\n",
    "        # カラム名の取得\n",
    "        columns = data_csv.columns\n",
    "        attributes = set(col.rsplit('_', 1)[0] for col in columns if col != 'frame_number')\n",
    "        def get_points(data):\n",
    "            points = []\n",
    "            for column in attributes:\n",
    "                x_col = f'{column}_x'\n",
    "                y_col = f'{column}_y'\n",
    "                points.append((x_col, y_col))\n",
    "            return points\n",
    "        \n",
    "        points_csv = get_points(data_csv)\n",
    "        fig, ax = plt.subplots(figsize=(16, 6))\n",
    "        scatters_csv = [ax.scatter([], [], s=10) for _ in points_csv]\n",
    "\n",
    "        def init():\n",
    "            ax.set_xlim(data_csv[[x for x, y in points_csv]].min().min(), data_csv[[x for x, y in points_csv]].max().max())\n",
    "            ax.set_ylim(data_csv[[y for x, y in points_csv]].max().max(), data_csv[[y for x, y in points_csv]].min().min())\n",
    "            return scatters_csv\n",
    "\n",
    "        def update(frame):\n",
    "            for scatter, (x_col, y_col) in zip(scatters_csv, points_csv):\n",
    "                scatter.set_offsets([[data_csv[x_col][frame], data_csv[y_col][frame]]])\n",
    "            return scatters_csv\n",
    "\n",
    "        ani = animation.FuncAnimation(fig, update, frames=len(data_csv), init_func=init, blit=True, interval=100)\n",
    "        # ani.save('animation.gif', writer='pillow', fps=30)\n",
    "        display(HTML(ani.to_jshtml()))\n"
   ]
  },
  {
   "cell_type": "code",
   "execution_count": null,
   "id": "f3e9ed42-d120-4c21-b719-1e41fa81c277",
   "metadata": {},
   "outputs": [],
   "source": [
    "# ウィジェット表示\n",
    "button.on_click(on_button_click)\n",
    "display(VBox([HBox([chooser_csv, button]), output]))"
   ]
  }
 ],
 "metadata": {
  "kernelspec": {
   "display_name": "Python 3 (ipykernel)",
   "language": "python",
   "name": "python3"
  },
  "language_info": {
   "codemirror_mode": {
    "name": "ipython",
    "version": 3
   },
   "file_extension": ".py",
   "mimetype": "text/x-python",
   "name": "python",
   "nbconvert_exporter": "python",
   "pygments_lexer": "ipython3",
   "version": "3.10.4"
  }
 },
 "nbformat": 4,
 "nbformat_minor": 5
}
